{
 "cells": [
  {
   "cell_type": "code",
   "execution_count": 1,
   "metadata": {},
   "outputs": [],
   "source": [
    "import os\n",
    "import json\n",
    "import csv\n",
    "import logging\n",
    "import concurrent.futures\n",
    "from typing import List, Dict, Tuple, Union\n",
    "import pandas as pd"
   ]
  },
  {
   "cell_type": "code",
   "execution_count": null,
   "metadata": {},
   "outputs": [],
   "source": [
    "# Configurer les logs\n",
    "logging.basicConfig(filename='notebooks/log.txt', level=logging.INFO, format='%(asctime)s - %(levelname)s - %(message)s')"
   ]
  },
  {
   "cell_type": "code",
   "execution_count": 4,
   "metadata": {},
   "outputs": [],
   "source": [
    "# Charger la configuration depuis un fichier JSON\n",
    "with open('notebooks/config.json', 'r') as f:\n",
    "    config = json.load(f)\n",
    "\n",
    "PATH_TO_CSVS = config['path_to_csvs']\n",
    "ENCODINGS = config['encodings']\n",
    "PREFIXES = config['prefixes']\n",
    "YEARS = config['years']"
   ]
  },
  {
   "cell_type": "code",
   "execution_count": 5,
   "metadata": {},
   "outputs": [],
   "source": [
    "# Classe de chargement\n",
    "class DataLoader:\n",
    "    def __init__(self, base_path: str = PATH_TO_CSVS):\n",
    "        self.base_path = base_path\n",
    "\n",
    "    def get_delimiter(self, file_path: str, bytes: int = 4096) -> Union[str, None]:\n",
    "        \"\"\"\n",
    "        Detecte automatiquement le separateur d'un fichier CSV.\n",
    "        \"\"\"\n",
    "        try:\n",
    "            with open(file_path, 'r') as file:\n",
    "                data = file.read(bytes)\n",
    "            sniffer = csv.Sniffer()\n",
    "            delimiter = sniffer.sniff(data).delimiter\n",
    "            return delimiter\n",
    "        except Exception as e:\n",
    "            logging.error(f\"Erreur lors de la détection du délimiteur: {e}\")\n",
    "            return None\n",
    "\n",
    "    def read_csv_file(self, file_path: str) -> Tuple[Union[pd.DataFrame, None], bool, Union[str, None]]:\n",
    "        \"\"\"\n",
    "        Lecture d'un fichier CSV en essayant différents encodages.\n",
    "        \"\"\"\n",
    "        if not os.path.exists(file_path):\n",
    "            return None, False, f\"Fichier non trouvé: {file_path}\"\n",
    "        \n",
    "        delimiter = self.get_delimiter(file_path)\n",
    "        if not delimiter:\n",
    "            return None, False, f\"Impossible de détecter le délimiteur pour le fichier: {file_path}\"\n",
    "        \n",
    "        for encoding in ENCODINGS:\n",
    "            try:\n",
    "                df = pd.read_csv(file_path, low_memory=False, encoding=encoding, delimiter=delimiter)\n",
    "                return df, True, None\n",
    "            except (UnicodeDecodeError, pd.errors.ParserError) as e:\n",
    "                logging.warning(f\"Erreur avec l'encodage {encoding} pour le fichier {file_path}: {e}\")\n",
    "        \n",
    "        return None, False, f\"Impossible de lire le fichier {file_path} avec les encodages: {ENCODINGS}.\"\n",
    "\n",
    "    def load_dataset(self, prefix: str, year: int) -> Tuple[str, Union[pd.DataFrame, None]]:\n",
    "        \"\"\"\n",
    "        Charge un dataset pour un préfixe et une année donnée.\n",
    "        \"\"\"\n",
    "        connector = '_' if year <= 2016 else '-'\n",
    "        file_name = os.path.join(self.base_path, f'{prefix}{connector}{year}.csv')\n",
    "        df, success, error = self.read_csv_file(file_name)\n",
    "        if success:\n",
    "            logging.info(f\"Chargement réussi du fichier: {file_name}\")\n",
    "            return file_name, df\n",
    "        else:\n",
    "            logging.error(f\"Erreur lors du chargement du fichier {file_name}: {error}\")\n",
    "            return file_name, None\n",
    "\n",
    "    def load_datasets_parallel(self, prefixes: List[str], years: List[int]) -> Dict[str, List[pd.DataFrame]]:\n",
    "        \"\"\"\n",
    "        Charge les datasets en parallèle pour les préfixes et années donnés.\n",
    "        \"\"\"\n",
    "        datasets = {prefix: [] for prefix in prefixes}\n",
    "        \n",
    "        with concurrent.futures.ThreadPoolExecutor() as executor:\n",
    "            future_to_dataset = {\n",
    "                executor.submit(self.load_dataset, prefix, year): (prefix, year)\n",
    "                for prefix in prefixes for year in years\n",
    "            }\n",
    "            \n",
    "            for future in concurrent.futures.as_completed(future_to_dataset):\n",
    "                prefix, year = future_to_dataset[future]\n",
    "                try:\n",
    "                    file_name, df = future.result()\n",
    "                    if df is not None:\n",
    "                        datasets[prefix].append(df)\n",
    "                except Exception as e:\n",
    "                    logging.error(f\"Erreur lors du chargement du dataset pour {prefix} {year}: {e}\")\n",
    "        \n",
    "        return datasets"
   ]
  },
  {
   "cell_type": "code",
   "execution_count": 6,
   "metadata": {},
   "outputs": [],
   "source": [
    "data_loader = DataLoader()\n",
    "datasets = data_loader.load_datasets_parallel(PREFIXES, YEARS)\n",
    "\n",
    "# Log du nombre de datasets chargés pour chaque préfixe\n",
    "for prefix, dfs in datasets.items():\n",
    "    logging.info(f\"{prefix}: {len(dfs)} datasets chargés.\")"
   ]
  }
 ],
 "metadata": {
  "kernelspec": {
   "display_name": "venv",
   "language": "python",
   "name": "venv"
  },
  "language_info": {
   "codemirror_mode": {
    "name": "ipython",
    "version": 3
   },
   "file_extension": ".py",
   "mimetype": "text/x-python",
   "name": "python",
   "nbconvert_exporter": "python",
   "pygments_lexer": "ipython3",
   "version": "3.12.0"
  }
 },
 "nbformat": 4,
 "nbformat_minor": 2
}
