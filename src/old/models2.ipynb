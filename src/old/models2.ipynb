{
 "cells": [
  {
   "cell_type": "code",
   "execution_count": 9,
   "metadata": {},
   "outputs": [],
   "source": [
    "import re\n",
    "import json\n",
    "import pandas as pd\n",
    "from sklearn.model_selection import StratifiedKFold\n",
    "from sklearn.utils import resample\n",
    "from features.features_encoder import FeaturesEncoder\n",
    "from log_handler import LogHandlerManager"
   ]
  },
  {
   "cell_type": "code",
   "execution_count": null,
   "metadata": {},
   "outputs": [],
   "source": [
    "R_STATE = 42\n",
    "# Charger le fichier de configuration\n",
    "with open('config.json', 'r') as config_file:\n",
    "    config = json.load(config_file)"
   ]
  },
  {
   "cell_type": "code",
   "execution_count": null,
   "metadata": {},
   "outputs": [],
   "source": [
    "# Charger les données prétraitées\n",
    "PATH_TO_CSV = '../../data/processed/merged_data_2019_2022.csv'\n",
    "df = pd.read_csv(PATH_TO_CSV, low_memory=False)\n",
    "\n",
    "log_handler_manager = LogHandlerManager(config[\"logs\"])\n",
    "log_handler_manager.start_listener()\n",
    "logger = logging.getLogger(__name__)\n",
    "logger.addHandler(log_handler_manager.get_queue_handler())\n",
    "logger.setLevel(logging.DEBUG)"
   ]
  },
  {
   "cell_type": "code",
   "execution_count": null,
   "metadata": {},
   "outputs": [],
   "source": [
    "# On découpe\n",
    "skf = StratifiedKFold(n_splits= 5, shuffle= True, random_state= R_STATE)"
   ]
  },
  {
   "cell_type": "code",
   "execution_count": null,
   "metadata": {},
   "outputs": [],
   "source": [
    "reference_size = len(df[df[\"grav\"] == 3])\n",
    "\n",
    "for fold, (train_index, test_index) in enumerate(skf.split(X, X['grav'])):\n",
    "    print(f'Fold {fold +1 }')\n",
    "\n",
    "    X_train, X_test = df.iloc[train_index], df.iloc[test_index]\n",
    "    y_train, y_test = df[\"grav\"].iloc[train_index], df[\"grav\"].iloc[test_index]\n",
    "\n",
    "    balanced_data = pd.DataFrame()\n",
    "    encoder = FeaturesEncoder(config, logger)\n",
    "\n",
    "    # Pour chaque modalité\n",
    "    for class_label in X_train[\"grav\"].unique():\n",
    "        class_data = X_train[X_train[\"grav\"] == class_label]\n",
    "\n",
    "        if len(class_data) > reference_size:\n",
    "            # Sous échantilloner\n",
    "            class_data = resample(class_data, replace= False, n_samples= reference_size, random_state= R_STATE)\n",
    "        else:\n",
    "            class_data = resample(class_data, replace= True, n_samples= reference_size, random_state= R_STATE)\n"
   ]
  }
 ],
 "metadata": {
  "kernelspec": {
   "display_name": "venv",
   "language": "python",
   "name": "venv"
  }
 },
 "nbformat": 4,
 "nbformat_minor": 2
}
