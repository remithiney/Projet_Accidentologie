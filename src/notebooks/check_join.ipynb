{
 "cells": [
  {
   "cell_type": "code",
   "execution_count": 30,
   "metadata": {},
   "outputs": [],
   "source": [
    "import pandas as pd\n",
    "import numpy as np"
   ]
  },
  {
   "cell_type": "code",
   "execution_count": 31,
   "metadata": {},
   "outputs": [
    {
     "name": "stderr",
     "output_type": "stream",
     "text": [
      "C:\\Users\\remi\\AppData\\Local\\Temp\\ipykernel_2080\\865678336.py:2: DtypeWarning: Columns (6) have mixed types. Specify dtype option on import or set low_memory=False.\n",
      "  df_lieux = pd.read_csv(\"../data/raw/lieux-2022.csv\", sep=\";\")\n"
     ]
    }
   ],
   "source": [
    "df_caract = pd.read_csv(\"../data/raw/caracteristiques-2022.csv\", sep=\";\")\n",
    "df_lieux = pd.read_csv(\"../data/raw/lieux-2022.csv\", sep=\";\")\n",
    "df_usagers = pd.read_csv(\"../data/raw/usagers-2022.csv\", sep=\";\")\n",
    "df_vehicules = pd.read_csv(\"../data/raw/vehicules-2022.csv\", sep=\";\")"
   ]
  },
  {
   "cell_type": "code",
   "execution_count": 32,
   "metadata": {},
   "outputs": [],
   "source": [
    "df_caract[\"Num_Acc\"] = df_caract[\"Accident_Id\"]\n",
    "df_caract.drop(columns=[\"Accident_Id\"], inplace=True)"
   ]
  },
  {
   "cell_type": "code",
   "execution_count": 33,
   "metadata": {},
   "outputs": [
    {
     "name": "stdout",
     "output_type": "stream",
     "text": [
      "df_usagers: (126662, 16) | 2874 na| 0 duplicate\n",
      "df_caract: (55302, 15) | 1233 na| 0 duplicate\n",
      "df_lieux: (55302, 18) | 110126 na| 0 duplicate\n",
      "df_vehicules: (94493, 11) | 93676 na| 0 duplicate\n"
     ]
    }
   ],
   "source": [
    "columns = {\n",
    "    \"df_usagers\": df_usagers,\n",
    "    \"df_caract\": df_caract,\n",
    "    \"df_lieux\": df_lieux,\n",
    "    \"df_vehicules\": df_vehicules,\n",
    "}\n",
    "\n",
    "for key,column in columns.items():\n",
    "    print(f'{key}: {column.shape} | {column.isna().sum().sum()} na| {column.duplicated().sum()} duplicate')"
   ]
  },
  {
   "cell_type": "code",
   "execution_count": 34,
   "metadata": {},
   "outputs": [
    {
     "name": "stdout",
     "output_type": "stream",
     "text": [
      "(126662, 25) | 127766 na | 0 duplicate\n",
      "df_merged: an_nais      2874\n",
      "occutc     124892\n",
      "dtype: int64\n",
      "\n",
      "df_usagers: an_nais    2874\n",
      "dtype: int64\n",
      "\n",
      "df_caract: adr    1233\n",
      "dtype: int64\n",
      "\n",
      "df_lieux: voie       4805\n",
      "v2        50047\n",
      "lartpc    55274\n",
      "dtype: int64\n",
      "\n",
      "df_vehicules: occutc    93676\n",
      "dtype: int64\n"
     ]
    }
   ],
   "source": [
    "df_merged = pd.merge(df_usagers, df_vehicules, on=['id_vehicule', \"Num_Acc\"], how='left')\n",
    "print(f'{df_merged.shape} | {df_merged.isna().sum().sum()} na | {df_merged.duplicated().sum()} duplicate')\n",
    "\n",
    "print(f'df_merged: {df_merged.isna().sum()[df_merged.isna().sum() > 0]}')\n",
    "\n",
    "for key,column in columns.items():\n",
    "    print('')\n",
    "    print(f'{key}: {column.isna().sum()[column.isna().sum() > 0]}')"
   ]
  },
  {
   "cell_type": "code",
   "execution_count": 35,
   "metadata": {},
   "outputs": [
    {
     "name": "stdout",
     "output_type": "stream",
     "text": [
      "(126662, 39) | 130641 na | 0 duplicate\n",
      "df_merged:\n",
      "an_nais      2874\n",
      "occutc     124892\n",
      "adr          2875\n",
      "dtype: int64\n",
      "\n",
      "df_usagers: an_nais    2874\n",
      "dtype: int64\n",
      "\n",
      "df_caract: adr    1233\n",
      "dtype: int64\n",
      "\n",
      "df_lieux: voie       4805\n",
      "v2        50047\n",
      "lartpc    55274\n",
      "dtype: int64\n",
      "\n",
      "df_vehicules: occutc    93676\n",
      "dtype: int64\n"
     ]
    }
   ],
   "source": [
    "df_merged = pd.merge(df_merged, df_caract, on='Num_Acc', how='left')\n",
    "print(f'{df_merged.shape} | {df_merged.isna().sum().sum()} na | {df_merged.duplicated().sum()} duplicate')\n",
    "\n",
    "print(\"df_merged:\")\n",
    "print(f\"{df_merged.isna().sum()[df_merged.isna().sum() > 0]}\")\n",
    "\n",
    "for key,column in columns.items():\n",
    "    print('')\n",
    "    print(f'{key}: {column.isna().sum()[column.isna().sum() > 0]}')"
   ]
  },
  {
   "cell_type": "code",
   "execution_count": 36,
   "metadata": {},
   "outputs": [
    {
     "name": "stdout",
     "output_type": "stream",
     "text": [
      "(126662, 56) | 381894 na | 0 duplicate\n",
      "df_merged:\n",
      "an_nais      2874\n",
      "occutc     124892\n",
      "adr          2875\n",
      "voie         9885\n",
      "v2         114769\n",
      "lartpc     126599\n",
      "dtype: int64\n",
      "\n",
      "df_usagers: an_nais    2874\n",
      "dtype: int64\n",
      "\n",
      "df_caract: adr    1233\n",
      "dtype: int64\n",
      "\n",
      "df_lieux: voie       4805\n",
      "v2        50047\n",
      "lartpc    55274\n",
      "dtype: int64\n",
      "\n",
      "df_vehicules: occutc    93676\n",
      "dtype: int64\n"
     ]
    }
   ],
   "source": [
    "df_merged = pd.merge(df_merged, df_lieux, on='Num_Acc', how='left')\n",
    "print(f'{df_merged.shape} | {df_merged.isna().sum().sum()} na | {df_merged.duplicated().sum()} duplicate')\n",
    "\n",
    "print(\"df_merged:\")\n",
    "print(f\"{df_merged.isna().sum()[df_merged.isna().sum() > 0]}\")\n",
    "\n",
    "for key,column in columns.items():\n",
    "    print('')\n",
    "    print(f'{key}: {column.isna().sum()[column.isna().sum() > 0]}')"
   ]
  },
  {
   "cell_type": "code",
   "execution_count": 37,
   "metadata": {},
   "outputs": [],
   "source": [
    "df_merged_loaded = pd.read_csv('../data/processed/merged_data_2019_2022.csv')"
   ]
  },
  {
   "cell_type": "code",
   "execution_count": 38,
   "metadata": {},
   "outputs": [
    {
     "data": {
      "text/plain": [
       "place           0\n",
       "catu            0\n",
       "grav            0\n",
       "sexe            0\n",
       "an_nais         0\n",
       "trajet          0\n",
       "locp            0\n",
       "actp            0\n",
       "senc            0\n",
       "catv            0\n",
       "obs             0\n",
       "obsm            0\n",
       "manv            0\n",
       "jour            0\n",
       "mois            0\n",
       "lum             0\n",
       "agg             0\n",
       "int             0\n",
       "atm             0\n",
       "col             0\n",
       "catr            0\n",
       "circ            0\n",
       "vosp            0\n",
       "prof            0\n",
       "plan            0\n",
       "surf            0\n",
       "infra           0\n",
       "situ            0\n",
       "vma             0\n",
       "nb_v            0\n",
       "nb_u            0\n",
       "jour_semaine    0\n",
       "hr              0\n",
       "tpc             0\n",
       "reg             0\n",
       "has_ceinture    0\n",
       "has_gants       0\n",
       "has_casque      0\n",
       "has_airbag      0\n",
       "has_gilet       0\n",
       "has_de          0\n",
       "choc_avant      0\n",
       "choc_arriere    0\n",
       "choc_gauche     0\n",
       "choc_droit      0\n",
       "dtype: int64"
      ]
     },
     "execution_count": 38,
     "metadata": {},
     "output_type": "execute_result"
    }
   ],
   "source": [
    "df_merged_loaded.isna().sum()"
   ]
  },
  {
   "cell_type": "code",
   "execution_count": 39,
   "metadata": {},
   "outputs": [
    {
     "data": {
      "text/plain": [
       "0"
      ]
     },
     "execution_count": 39,
     "metadata": {},
     "output_type": "execute_result"
    }
   ],
   "source": [
    "df_merged_loaded.duplicated().sum()"
   ]
  },
  {
   "cell_type": "code",
   "execution_count": 40,
   "metadata": {},
   "outputs": [
    {
     "data": {
      "text/plain": [
       "place            object\n",
       "catu             object\n",
       "grav              int64\n",
       "sexe             object\n",
       "an_nais         float64\n",
       "trajet           object\n",
       "locp             object\n",
       "actp             object\n",
       "senc             object\n",
       "catv             object\n",
       "obs              object\n",
       "obsm             object\n",
       "manv             object\n",
       "jour              int64\n",
       "mois              int64\n",
       "lum              object\n",
       "agg               int64\n",
       "int              object\n",
       "atm              object\n",
       "col              object\n",
       "catr             object\n",
       "circ             object\n",
       "vosp             object\n",
       "prof             object\n",
       "plan             object\n",
       "surf             object\n",
       "infra            object\n",
       "situ             object\n",
       "vma               int64\n",
       "nb_v              int64\n",
       "nb_u              int64\n",
       "jour_semaine     object\n",
       "hr                int64\n",
       "tpc               int64\n",
       "reg              object\n",
       "has_ceinture      int64\n",
       "has_gants         int64\n",
       "has_casque        int64\n",
       "has_airbag        int64\n",
       "has_gilet         int64\n",
       "has_de            int64\n",
       "choc_avant        int64\n",
       "choc_arriere      int64\n",
       "choc_gauche       int64\n",
       "choc_droit        int64\n",
       "dtype: object"
      ]
     },
     "execution_count": 40,
     "metadata": {},
     "output_type": "execute_result"
    }
   ],
   "source": [
    "df_merged_loaded.dtypes"
   ]
  }
 ],
 "metadata": {
  "kernelspec": {
   "display_name": "venv",
   "language": "python",
   "name": "venv"
  }
 },
 "nbformat": 4,
 "nbformat_minor": 2
}
