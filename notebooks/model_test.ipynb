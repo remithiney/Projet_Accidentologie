{
 "cells": [
  {
   "cell_type": "code",
   "execution_count": null,
   "metadata": {},
   "outputs": [],
   "source": [
    "import pandas as pd\n",
    "import numpy as np\n",
    "import matplotlib.pyplot as plt\n",
    "import seaborn as sns\n",
    "from sklearn.model_selection import StratifiedKFold, RandomizedSearchCV, cross_val_predict, cross_val_score\n",
    "from sklearn.preprocessing import MinMaxScaler, OneHotEncoder\n",
    "from sklearn.decomposition import PCA\n",
    "from sklearn.compose import ColumnTransformer\n",
    "from sklearn.ensemble import RandomForestClassifier\n",
    "from sklearn.linear_model import LogisticRegression\n",
    "from sklearn.svm import SVC\n",
    "from sklearn.tree import DecisionTreeClassifier\n",
    "from sklearn.naive_bayes import GaussianNB\n",
    "from xgboost import XGBClassifier\n",
    "from imblearn.pipeline import Pipeline as ImbPipeline\n",
    "from imblearn.under_sampling import RandomUnderSampler\n",
    "from sklearn.impute import SimpleImputer\n",
    "from sklearn.pipeline import Pipeline\n",
    "from sklearn.compose import make_column_selector\n",
    "from sklearn.metrics import confusion_matrix, ConfusionMatrixDisplay\n",
    "import joblib"
   ]
  },
  {
   "cell_type": "code",
   "execution_count": 2,
   "metadata": {},
   "outputs": [],
   "source": [
    "# 0 - Charger les données\n",
    "data = pd.read_csv('../data/processed/merged_data_2019_2022.csv')\n"
   ]
  },
  {
   "cell_type": "code",
   "execution_count": 3,
   "metadata": {},
   "outputs": [
    {
     "data": {
      "text/plain": [
       "['../data/fold_indices.pkl']"
      ]
     },
     "execution_count": 3,
     "metadata": {},
     "output_type": "execute_result"
    }
   ],
   "source": [
    "# 1 - Découper le jeu de données en k-folds et sauvegarder les indices des plis pour la reproductibilité\n",
    "kfold = StratifiedKFold(n_splits=3, shuffle=True, random_state=42)\n",
    "fold_indices = list(kfold.split(X=data.drop(columns=['grav']), y=data['grav']))\n",
    "joblib.dump(fold_indices, '../data/fold_indices.pkl')"
   ]
  },
  {
   "cell_type": "code",
   "execution_count": 4,
   "metadata": {},
   "outputs": [],
   "source": [
    "# Charger les indices des plis enregistrés\n",
    "fold_indices = joblib.load('../data/fold_indices.pkl')"
   ]
  },
  {
   "cell_type": "code",
   "execution_count": 5,
   "metadata": {},
   "outputs": [],
   "source": [
    "# 2 - Équilibrer la variable 'grav' entre chaque modalité et préparer le pipeline\n",
    "X = data.drop(columns=['grav'])\n",
    "y = data['grav']"
   ]
  },
  {
   "cell_type": "code",
   "execution_count": 6,
   "metadata": {},
   "outputs": [],
   "source": [
    "# Sélection des colonnes numériques et catégorielles\n",
    "numeric_features = make_column_selector(dtype_include=['int64', 'float64'])\n",
    "categorical_features = make_column_selector(dtype_include=['object'])"
   ]
  },
  {
   "cell_type": "code",
   "execution_count": 7,
   "metadata": {},
   "outputs": [],
   "source": [
    "# Prétraitement : MinMaxScaler pour les colonnes numériques, OneHotEncoder pour les colonnes catégorielles\n",
    "preprocessor = ColumnTransformer(\n",
    "    transformers=[\n",
    "        ('num', MinMaxScaler(), numeric_features),\n",
    "        ('cat', OneHotEncoder(drop='first'), categorical_features)\n",
    "    ]\n",
    ")"
   ]
  },
  {
   "cell_type": "code",
   "execution_count": 8,
   "metadata": {},
   "outputs": [],
   "source": [
    "# Liste des classificateurs à tester\n",
    "classifiers = {\n",
    "    'Logistic Regression': LogisticRegression(max_iter=1000, random_state=42),\n",
    "    'SVM': SVC(probability=True, random_state=42),\n",
    "    'Decision Tree': DecisionTreeClassifier(random_state=42),\n",
    "    'Random Forest': RandomForestClassifier(random_state=42),\n",
    "    'Naive Bayes': GaussianNB(),\n",
    "    'XGBoost': XGBClassifier(use_label_encoder=False, eval_metric='logloss', random_state=42)\n",
    "}"
   ]
  },
  {
   "cell_type": "code",
   "execution_count": 9,
   "metadata": {},
   "outputs": [],
   "source": [
    "# Paramètres des hyperparamètres pour chaque modèle\n",
    "param_grids = {\n",
    "    'Logistic Regression': {\n",
    "        'classifier__C': [0.1, 1, 10]\n",
    "    },\n",
    "    'SVM': {\n",
    "        'classifier__C': [0.1, 1, 10],\n",
    "        'classifier__kernel': ['linear', 'rbf']\n",
    "    },\n",
    "    'Decision Tree': {\n",
    "        'classifier__max_depth': [5, 10, 20],\n",
    "        'classifier__min_samples_split': [2, 5, 10]\n",
    "    },\n",
    "    'Random Forest': {\n",
    "        'classifier__n_estimators': [50, 100],\n",
    "        'classifier__max_depth': [10, 20],\n",
    "        'classifier__min_samples_split': [2, 5],\n",
    "        'classifier__min_samples_leaf': [1, 2]\n",
    "    },\n",
    "    'Naive Bayes': {},\n",
    "    'XGBoost': {\n",
    "        'classifier__n_estimators': [50, 100],\n",
    "        'classifier__learning_rate': [0.01, 0.1, 0.2],\n",
    "        'classifier__max_depth': [3, 5, 10]\n",
    "    }\n",
    "}"
   ]
  },
  {
   "cell_type": "code",
   "execution_count": null,
   "metadata": {},
   "outputs": [
    {
     "name": "stdout",
     "output_type": "stream",
     "text": [
      "\n",
      "Testing model: Logistic Regression\n"
     ]
    },
    {
     "name": "stderr",
     "output_type": "stream",
     "text": [
      "E:\\Telechargements\\Datascientest\\Git_GitHub\\repos\\Projet_Accidentologie\\venv\\Lib\\site-packages\\sklearn\\model_selection\\_search.py:320: UserWarning: The total space of parameters 3 is smaller than n_iter=10. Running 3 iterations. For exhaustive searches, use GridSearchCV.\n",
      "  warnings.warn(\n",
      "E:\\Telechargements\\Datascientest\\Git_GitHub\\repos\\Projet_Accidentologie\\venv\\Lib\\site-packages\\sklearn\\model_selection\\_search.py:320: UserWarning: The total space of parameters 3 is smaller than n_iter=10. Running 3 iterations. For exhaustive searches, use GridSearchCV.\n",
      "  warnings.warn(\n"
     ]
    }
   ],
   "source": [
    "# Boucle pour tester chaque classificateur\n",
    "for name, classifier in classifiers.items():\n",
    "    print(f\"\\nTesting model: {name}\")\n",
    "    \n",
    "    # Créer un pipeline pour équilibrer les classes, encoder les colonnes, appliquer PCA et entraîner le modèle\n",
    "    pipeline = ImbPipeline([\n",
    "        ('sampling', RandomUnderSampler(sampling_strategy='auto')),\n",
    "        ('preprocessing', preprocessor),\n",
    "        ('pca', PCA(n_components=0.95)),\n",
    "        ('classifier', classifier)\n",
    "    ])\n",
    "    \n",
    "    # Obtenir les paramètres d'hyperparamètres pour le classificateur actuel\n",
    "    param_distributions = param_grids.get(name, {})\n",
    "    \n",
    "    # Effectuer une recherche des meilleurs hyperparamètres avec RandomizedSearchCV\n",
    "    if param_distributions:\n",
    "        search = RandomizedSearchCV(pipeline, param_distributions, n_iter=10, cv=kfold, scoring='accuracy', n_jobs=1, random_state=42)\n",
    "    else:\n",
    "        # Pas d'hyperparamètres à optimiser, utiliser simplement la validation croisée\n",
    "        search = pipeline\n",
    "    \n",
    "    # Effectuer la validation croisée avec prédictions\n",
    "    y_pred = cross_val_predict(search, X, y, cv=kfold)\n",
    "    \n",
    "    # Générer la matrice de confusion\n",
    "    cm = confusion_matrix(y, y_pred)\n",
    "    disp = ConfusionMatrixDisplay(confusion_matrix=cm)\n",
    "    disp.plot(cmap='Blues')\n",
    "    plt.title(f\"Matrice de confusion pour {name}\")\n",
    "    plt.show()\n",
    "    \n",
    "    # Afficher les résultats de la validation croisée\n",
    "    if param_distributions:\n",
    "        search.fit(X, y)\n",
    "        print(\"Meilleurs paramètres :\", search.best_params_)\n",
    "        print(\"Meilleur score :\", search.best_score_)\n",
    "    else:\n",
    "        print(\"Score moyen (validation croisée) :\", np.mean(cross_val_score(search, X, y, cv=kfold, scoring='accuracy')))\n"
   ]
  }
 ],
 "metadata": {
  "kernelspec": {
   "display_name": "venv",
   "language": "python",
   "name": "venv"
  },
  "language_info": {
   "codemirror_mode": {
    "name": "ipython",
    "version": 3
   },
   "file_extension": ".py",
   "mimetype": "text/x-python",
   "name": "python",
   "nbconvert_exporter": "python",
   "pygments_lexer": "ipython3",
   "version": "3.12.0"
  }
 },
 "nbformat": 4,
 "nbformat_minor": 2
}
